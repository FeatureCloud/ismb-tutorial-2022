{
 "cells": [
  {
   "cell_type": "code",
   "execution_count": 65,
   "outputs": [],
   "source": [
    "from sklearn.datasets import load_breast_cancer\n",
    "from sklearn.linear_model import LogisticRegression\n",
    "from sklearn.metrics import make_scorer, matthews_corrcoef\n",
    "from sklearn.model_selection import cross_validate, StratifiedKFold\n",
    "from sklearn.pipeline import Pipeline\n",
    "from sklearn.preprocessing import StandardScaler"
   ],
   "metadata": {
    "collapsed": false,
    "pycharm": {
     "name": "#%%\n"
    }
   }
  },
  {
   "cell_type": "code",
   "execution_count": 66,
   "outputs": [
    {
     "name": "stdout",
     "output_type": "stream",
     "text": [
      "The dataset contains 569 samples and 30 features.\n",
      "212 of the samples are assigned with label 0=malignant.\n",
      "357 of the samples are assigned with label 1=benign.\n"
     ]
    }
   ],
   "source": [
    "# Get dataset from sklearn\n",
    "data = load_breast_cancer(as_frame=True)['data']\n",
    "target = load_breast_cancer(as_frame=True)['target']\n",
    "target_names = load_breast_cancer(as_frame=True)['target_names']\n",
    "print(f'The dataset contains {data.shape[0]} samples and {data.shape[1]} features.')\n",
    "print(f'{target[target == 0].shape[0]} of the samples are assigned with label 0={target_names[0]}.')\n",
    "print(f'{target[target == 1].shape[0]} of the samples are assigned with label 1={target_names[1]}.')"
   ],
   "metadata": {
    "collapsed": false,
    "pycharm": {
     "name": "#%%\n"
    }
   }
  },
  {
   "cell_type": "code",
   "execution_count": 67,
   "outputs": [
    {
     "name": "stdout",
     "output_type": "stream",
     "text": [
      "MCC: 0.941\n"
     ]
    }
   ],
   "source": [
    "# Create a sklearn pipeline with normalization and SVM\n",
    "pipe = Pipeline([('scaler', StandardScaler()), ('clf', LogisticRegression())])\n",
    "cv = StratifiedKFold(n_splits=5, shuffle=True, random_state=1)\n",
    "# Evaluate the pipeline with a 5-fold CV on the train set using the Matthews Correlation Coefficient (MCC)\n",
    "cv_result = cross_validate(pipe, X=data, y=target, cv=cv, scoring=make_scorer(matthews_corrcoef))\n",
    "print(f'MCC: {cv_result[\"test_score\"].mean().round(3)}')"
   ],
   "metadata": {
    "collapsed": false,
    "pycharm": {
     "name": "#%%\n"
    }
   }
  },
  {
   "cell_type": "code",
   "execution_count": null,
   "outputs": [],
   "source": [],
   "metadata": {
    "collapsed": false,
    "pycharm": {
     "name": "#%%\n"
    }
   }
  }
 ],
 "metadata": {
  "kernelspec": {
   "display_name": "Python 3",
   "language": "python",
   "name": "python3"
  },
  "language_info": {
   "codemirror_mode": {
    "name": "ipython",
    "version": 2
   },
   "file_extension": ".py",
   "mimetype": "text/x-python",
   "name": "python",
   "nbconvert_exporter": "python",
   "pygments_lexer": "ipython2",
   "version": "2.7.6"
  }
 },
 "nbformat": 4,
 "nbformat_minor": 0
}